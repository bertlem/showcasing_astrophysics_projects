{
 "cells": [
  {
   "cell_type": "markdown",
   "id": "6a5e8212-e120-42f4-bd31-f3c6f6096bdc",
   "metadata": {},
   "source": [
    "# The Milky Way warp"
   ]
  },
  {
   "cell_type": "markdown",
   "id": "8c827393-36d9-4fba-9465-58e184133fab",
   "metadata": {},
   "source": [
    "## Introduction"
   ]
  },
  {
   "cell_type": "markdown",
   "id": "94441d72-8742-43cd-a1bf-e06de1d04e12",
   "metadata": {},
   "source": [
    "Our Galaxy, the Milky Way, consists of a flat disk of gas and stars, in which spiral arms have formed. The disk is embedded in a more or less spherical halo deprived of gas.  "
   ]
  },
  {
   "cell_type": "markdown",
   "id": "4f6d3235-12da-478a-aa1d-a8084f468e9a",
   "metadata": {},
   "source": [
    "It is known for a long time (from observations of the gas in the disk) that the disk is not perfectly flat, but is instead warped, with some regions bending upward (with respect to the mid-plane of the disk) while other regions are bending downward. Such a warped disk is a common feature for spiral galaxies."
   ]
  },
  {
   "cell_type": "markdown",
   "id": "f9375aa5-426c-4a19-9494-9c5c978314a3",
   "metadata": {},
   "source": [
    "Here we want to take advantage from the fact that we know accurately the distance to Cepheids pulsating stars (thanks to their period-luminosity relations, see the corresponding notebook) to determine the exact shape of the warp."
   ]
  },
  {
   "cell_type": "markdown",
   "id": "ece01f80-9c0f-4eb4-b878-0319cf740d41",
   "metadata": {},
   "source": [
    "We use the formula first suggested by Skowron et al. (2021b):"
   ]
  },
  {
   "cell_type": "markdown",
   "id": "d6ddbdc1-8549-4547-8b0c-909f2360a472",
   "metadata": {},
   "source": [
    "\\begin{equation}\n",
    "\\label{eq:warp}\n",
    "z(r,\\Theta)=\n",
    "    \\begin{cases}\n",
    "        z_{0} & r < r_{0} \\\\\n",
    "        z_{0}+(r-r_{0})^{2}\\times[z_{1}\\,sin(\\Theta-\\Theta_{1})+z_{2}\\,sin(2\\,(\\Theta-\\Theta_{2}))] & r \\geq r_{0}\n",
    "\\end{cases}\n",
    "%\\text{for}~\n",
    "\\end{equation}\n",
    "- $z$ is the vertical distance from the Galactic plane, \n",
    "- $r$ is the distance from the Galactic center\n",
    "- $\\Theta$ is the Galactocentric azimuth. \n",
    "- $\\Theta$=0$^\\circ$ points in the \"Sun to Galactic center\" direction, while $\\Theta$=180$^\\circ$ points toward the Galactic anticenter. $\\Theta$ increases counterclockwise if the Galaxy is seen from above. \n",
    "\n"
   ]
  },
  {
   "cell_type": "markdown",
   "id": "420e5d83-3013-4264-943a-2f062f57faae",
   "metadata": {},
   "source": [
    "## Bayesian robust regression "
   ]
  },
  {
   "cell_type": "markdown",
   "id": "3ce5daba-dd6c-4cc7-8319-f46f4aea013d",
   "metadata": {},
   "source": [
    "We adjusted the radial, vertical, and angular parameters $r_0$, $z_0$, $z_{1}$, $z_{2}$, $\\Theta_{1}$, $\\Theta_{2}$, using a Bayesian robust regression method."
   ]
  },
  {
   "cell_type": "markdown",
   "id": "3fba19f9-4014-4df8-9fdb-e0258d41afc3",
   "metadata": {},
   "source": [
    "- We assume the warp formula above for the likelihood of the model. \n",
    "- We assume a Student's t-distribution for the likelihood of our model, as it is much less sensitive to outliers and, therefore, provides more robust estimates of the parameters when compared, for instance, with a normal distribution (in presence of outliers, other approaches often shift the mean toward the outliers and increase the standard deviation, while the Student's t-distribution decreases the weight of the outliers). \n",
    "- We use the Hamiltonian MCMC sampler (Betancourt et al. 2017} of pymc3 to sample the posterior distribution. "
   ]
  },
  {
   "cell_type": "markdown",
   "id": "235df499-32df-4e36-9b50-97c42454185c",
   "metadata": {},
   "source": [
    "- First we assume a normal distribution for the priors, adopting for the mean value and the standard deviation:\n",
    "    * $r_0$=5$\\pm$2 kpc,\n",
    "    * $z_0, z_1, z_2$=0.5$\\pm$1 kpc,  \n",
    "    * $\\Theta_{1}, \\Theta_{2}$=$\\pi\\pm\\pi$ rad.\n",
    "` `  \n",
    "` `  \n",
    "- From the posterior distributions of this first stage, we use the mean values and 10$\\times$ the standard deviations as the input (normal) priors for the second stage. \n",
    "\n",
    "- In both steps, we run 4 chains and use the first 10000 samples of each chain to tune the multidimensional posterior and accept the next 5000 draws as our posterior distribution. \n",
    "- We checked that the auto-correlation is low for each individual chain. \n",
    "\n",
    "- From the posterior distributions obtained in the second step, we adopt the mean values and the standard deviations as the parameters of the warp and their uncertainties, respectively.  "
   ]
  },
  {
   "cell_type": "markdown",
   "id": "05d595d3-02fd-413a-a885-c7a1a89edf51",
   "metadata": {},
   "source": [
    "## Results"
   ]
  },
  {
   "cell_type": "markdown",
   "id": "3279a24d-c199-4954-9b79-fe0e15593a17",
   "metadata": {},
   "source": [
    "Here is what the warp looks like in 2D. Our model reproduces closely the vertical distribution of the Galactic Cepheids. Note that the scale is inflated on the Z-axis to better display the warp:  "
   ]
  },
  {
   "cell_type": "markdown",
   "id": "857191c2-9895-44a2-b662-e65c48b6b83e",
   "metadata": {},
   "source": [
    "<img src=\"plots_warp/warp_2D.jpg\" width=\"1000\">"
   ]
  },
  {
   "cell_type": "markdown",
   "id": "9edd98bb-fbe1-45f8-ab3c-6b1394ae3ea7",
   "metadata": {},
   "source": [
    "Milky Way warped disk computed with the parameters obtained from the robust regression method (light blue) for X=0\\,kpc. Individual Cepheids are over-plotted in dark blue, with Galactocentric distances computed using mid-infrared photometry from the WISE satellite and PW relations."
   ]
  },
  {
   "cell_type": "markdown",
   "id": "f4156a79-2adb-4d73-8b1b-41a6a0d73cc7",
   "metadata": {},
   "source": [
    "<div align=\"center\">\n",
    "    \n",
    "|                |  Mean  |   sigma  |\n",
    "|---------------:|:------:|:--------:|\n",
    "|    $r_0$ (kpc) | 4.8626 |   0.3136 |\n",
    "|    $z_0$  (pc) |   13.0 |      4.9 |\n",
    "|    $z_1$  (pc) |    8.9 |      0.6 |\n",
    "|    $z_2$  (pc) |    1.4 |      0.3 |\n",
    "|   theta1 (deg) | -13.48 |     1.92 |\n",
    "|   theta2 (deg) | -26.27 |     5.60 |\n",
    "|       sigma    |  0.052 |    0.003 |\n",
    "</div>\n",
    "<div align=\"center\">\n",
    "Parameters of the Galactic warp as derived using a robust regression method.\n",
    "</div>"
   ]
  },
  {
   "cell_type": "markdown",
   "id": "6474aa19-66f8-4efa-8490-aa1fabd6d03e",
   "metadata": {},
   "source": [
    "<p style=\"text-align:center;\"><img src=\"plots_warp/warp_parameters_posteriors_distributions.jpg\" width=\"300\"></p>"
   ]
  },
  {
   "cell_type": "markdown",
   "id": "b225078e-25f8-485b-9b0f-68cc4fa37297",
   "metadata": {},
   "source": [
    "### Correlation matrix and corner plot"
   ]
  },
  {
   "cell_type": "markdown",
   "id": "266e0043-c62c-438d-8a83-da34198840fa",
   "metadata": {},
   "source": [
    "|             |        $r_0$ |        $z_0$ |      $z_{1}$ |      $z_{2}$ |  $Theta_{1}$ |  $Theta_{2}$ |      $sigma$ |         $nu$ |\n",
    "|-------------|-------------:|-------------:|-------------:|-------------:|-------------:|-------------:|-------------:|-------------:|\n",
    "| $r_0$       |    0.0983427 | -0.000584572 |  0.000173638 |  4.72231e-07 |   0.00244786 |  -0.00333678 | -7.20902e-05 |  -0.00166704 |\n",
    "| $z_0$       | -0.000584572 |  2.41349e-05 | -8.84631e-07 |  1.83132e-07 | -8.14438e-05 |  3.50388e-05 |  1.55684e-06 |  5.25924e-05 |\n",
    "| $z_{1}$     |  0.000173638 | -8.84631e-07 |  4.20396e-07 |  3.95521e-08 |  7.20249e-06 |  1.64115e-05 | -1.53575e-07 | -5.55467e-06 |\n",
    "| $z_{2}$     |  4.72231e-07 |  1.83132e-07 |  3.95521e-08 |  7.70687e-08 | -4.86087e-06 |  8.99776e-08 |  3.91017e-08 |  1.83853e-06 |\n",
    "| $Theta_{1}$ |   0.00244786 | -8.14438e-05 |  7.20249e-06 | -4.86087e-06 |   0.00112674 |   0.00154508 | -7.66386e-06 | -0.000389352 |\n",
    "| $Theta_{2}$ |  -0.00333678 |  3.50388e-05 |  1.64115e-05 |  8.99776e-08 |   0.00154508 |   0.00955416 | -9.70985e-07 | -0.000574705 |\n",
    "| $sigma$     | -7.20902e-05 |  1.55684e-06 | -1.53575e-07 |  3.91017e-08 | -7.66386e-06 | -9.70985e-07 |  1.09651e-05 |  0.000380751 |\n",
    "| $nu$        |  -0.00166704 |  5.25924e-05 | -5.55467e-06 |  1.83853e-06 | -0.000389352 | -0.000574705 |  0.000380751 |    0.0283286 |\n",
    "\n",
    "<div align=\"center\">\n",
    "$r_0$, $z_0$, $z_{1}$, $z_{2}$, $\\Theta_{1}$, $\\Theta_{2}$ are the structural parameters of the warp model, $\\sigma$ its standard deviation and $\\nu$ its normality parameter.\n",
    "</div>"
   ]
  },
  {
   "cell_type": "markdown",
   "id": "a1a631cd-d430-49a4-86f1-e474a70e2c97",
   "metadata": {},
   "source": [
    "<img src=\"plots_warp/warp_corner_posteriors.jpg\" width=\"1000\">"
   ]
  },
  {
   "cell_type": "markdown",
   "id": "d4cedc13-b786-44b4-89d6-261db4ff5fd7",
   "metadata": {},
   "source": [
    "## The Milky Way warp for different azimutal directions"
   ]
  },
  {
   "cell_type": "markdown",
   "id": "df15f066-99bb-49fd-81bc-86e1c4d6f1d9",
   "metadata": {},
   "source": [
    "<img src=\"plots_warp/warp_sectors.jpg\" width=\"1000\">"
   ]
  },
  {
   "cell_type": "markdown",
   "id": "3b229f26-d364-4e6d-8f16-87f710b7fd01",
   "metadata": {},
   "source": [
    "## Influence of the warp on the Galactocentric distance"
   ]
  },
  {
   "cell_type": "markdown",
   "id": "e8f5a773-94fc-4b5f-a246-1839b7eaecda",
   "metadata": {},
   "source": [
    "In regions where the disk is strongly warped, the Galactocentric distances of stars end up being shorter than if the star was located in a nonwarped Milky Way disk.\n",
    "\n",
    "In order to investigate this issue, we have compared the length of a bow between the Galactic Center and a Cepheid located at the Galactocentric distance d$_{\\mathrm{GC}}$ with d$_{\\mathrm{GC}}$ itself. "
   ]
  },
  {
   "cell_type": "markdown",
   "id": "5317ae8f-e7ca-47a5-ba5c-8160a31b25ae",
   "metadata": {},
   "source": [
    "<p style=\"text-align:center;\"><img src=\"Plot_warp.jpg\" width=\"500\"></p>"
   ]
  },
  {
   "cell_type": "markdown",
   "id": "28edfe16-131b-470b-a9c9-f7391b292e27",
   "metadata": {},
   "source": [
    "With the adopted definition, the warp has a parabolic shape, which varies with the Galactocentric azimuth $\\Theta$. Indeed, if we set the position of a given Cepheid as $(r_{cep},\\Theta_{cep},z_{cep})$ in Galactocentric coordinates, the equation of the warp is of the form:\n",
    "\\begin{equation}\n",
    "    z=z_0+C\\times(r-r_0)^2\n",
    "\\end{equation}\n",
    "where \n",
    "\\begin{equation*}\n",
    "C=z_{1}\\,sin(\\Theta_{cep}-\\Theta_{1})+z_{2}\\,sin(2\\,(\\Theta_{cep}-\\Theta_{2}))      \n",
    "\\end{equation*}\n",
    "in the vertical plane containing the Galactic center and the Cepheid at the Galactocentric azimuth $\\Theta_{cep}$.\n",
    "\n",
    "The length of the bow between the Galactic center and a given Cepheid located at the distance d$_{\\mathrm{GC}}$ from the Galactic center is given by the integral equation:\n",
    "\\begin{equation}\n",
    "    l_{bow}=\\int_{0}^{d_{\\mathrm{GC}}\\cos(\\phi)}\\sqrt{1+\\left(\\frac{dz}{dr}\\right)^{2}}\\,\\mathrm{d}r\n",
    "\\end{equation}\n",
    "where $z=f(r)$ is the function describing the warp and $D=d_{\\mathrm{GC}}\\cos\\phi$ is the Galactocentric distance of the Cepheid projected on the Galactic plane.\n",
    "\n",
    "Given the definition of the warp, we have to integrate:\n",
    "\\begin{equation}\n",
    "    l_{bow}=\\int_{0}^{D}\\sqrt{4C^2\\left(r-r_0\\right)^2+1}\\,\\mathrm{d}r\n",
    "\\end{equation}\n",
    "with $D=d_{\\mathrm{GC}}\\cos\\phi$.\n",
    "After a series of substitutions of variables, it is possible to analytically determine the value of $l_{bow}$. In this work we derived it numerically using scipy"
   ]
  },
  {
   "cell_type": "markdown",
   "id": "98ed16fa-5f2e-464f-a882-74b7d62fe416",
   "metadata": {},
   "source": [
    "As can be seen below, the difference between Galactocentric distances computed on a flat and on a warped disk are negligible below 10 kpc. They can reach 100 pc at R$_{G}$=18 kpc, but only for the stars located in regions where the warp is pronounced, while other Cepheids are barely affected."
   ]
  },
  {
   "cell_type": "markdown",
   "id": "21f00717-1638-4da2-82d9-e7f681f4addf",
   "metadata": {},
   "source": [
    "<p style=\"text-align:center;\"><img src=\"plots_warp/unwarp.jpg\" width=\"300\"></p>"
   ]
  },
  {
   "cell_type": "markdown",
   "id": "a146521a-2472-4ea8-b485-f59d95d8870d",
   "metadata": {},
   "source": [
    "Impact of the warp on Galactocentric distances. Top panel: Distribution of the difference between Galactocentric distances computed on a flat and on a warped disk for our entire sample of Cepheids. Bottom panel: Difference between Galactocentric distances computed on a flat and on a warped disk, as a function of the Galactocentric distance."
   ]
  },
  {
   "cell_type": "markdown",
   "id": "14765e37-9780-4ff7-8bc1-87549ed65b23",
   "metadata": {},
   "source": [
    "[Link to the original paper](https://ui.adsabs.harvard.edu/abs/2022A%26A...668A..40L/abstract)"
   ]
  }
 ],
 "metadata": {
  "kernelspec": {
   "display_name": "Python 3 (ipykernel)",
   "language": "python",
   "name": "python3"
  },
  "language_info": {
   "codemirror_mode": {
    "name": "ipython",
    "version": 3
   },
   "file_extension": ".py",
   "mimetype": "text/x-python",
   "name": "python",
   "nbconvert_exporter": "python",
   "pygments_lexer": "ipython3",
   "version": "3.9.13"
  }
 },
 "nbformat": 4,
 "nbformat_minor": 5
}
