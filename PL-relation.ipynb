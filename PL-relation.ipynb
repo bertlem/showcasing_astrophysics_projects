{
 "cells": [
  {
   "cell_type": "markdown",
   "id": "d783eda8-8ae3-4de3-9467-35d724fad17c",
   "metadata": {},
   "source": [
    "# Period-Luminosity (PL) relations"
   ]
  },
  {
   "cell_type": "raw",
   "id": "53a18a49-aff3-41e4-9744-c830ab15f49b",
   "metadata": {},
   "source": [
    "A period-luminosity relation is a relationship between the luminosity (L) or the mean absolute magnitude (M) of pulsating variable stars and their pulsation period (P). Pulsating variable stars include classical Cepheids and RR Lyrae stars, but also the less common type II Cepheids and anomalous Cepheids.\n",
    "From the mean absolute magnitude, it is possible to derive the distance of the pulsating star."
   ]
  },
  {
   "cell_type": "markdown",
   "id": "97ba4f65-d452-46e1-a39a-feacb8b158ab",
   "metadata": {},
   "source": [
    "# Period-Wesenheit (PW) relations"
   ]
  },
  {
   "cell_type": "markdown",
   "id": "a7b495b3-2058-4acd-bfdb-5c4eff2656c8",
   "metadata": {},
   "source": [
    "The Wesenheit index (Madore 1982) is a pseudo-magnitude formed from the linear combination of a magnitude and a colour, for instance:\n",
    "\n",
    "W = V - R (B-V)\n",
    "\n",
    "where R is the ratio of the total to selective extinction (for the selected magnitude and color, for instance $R = \\frac{A_{V}}{E(B-V)}$ in the example above.\n",
    "Wesenheit indices are minimally affected by uncertainties affecting the correction for interstellar extinction (the uncertainties are pushed to the choice of the extincton law).\n",
    "Therefore Wesenheit indices provide better stellar distances."
   ]
  },
  {
   "cell_type": "markdown",
   "id": "abcff61d-3ca6-4203-9585-5d42122dc784",
   "metadata": {},
   "source": [
    "# Fitting a PW relation in the mid-infrared using Bayesian Robust regression"
   ]
  },
  {
   "cell_type": "markdown",
   "id": "b0d98c98-64b7-43d3-81f8-300563c1b74b",
   "metadata": {},
   "source": [
    "We want to determine the coefficients of the following PW relation"
   ]
  },
  {
   "cell_type": "markdown",
   "id": "0778bd78-a926-432a-a582-63a1373c3114",
   "metadata": {
    "tags": []
   },
   "source": [
    "\\begin{equation}\n",
    "W_{\\mathrm{abs}} \\sim \\mathcal{T}(\\alpha + \\beta \\times \\mathrm{log}_{\\mathrm{10}}\\left\\{\\frac{\\mathrm{Period}}{1 \\mathrm{d}}\\right\\}, \\, \\sigma^{2}, \\, \\nu),\n",
    "\\end{equation}"
   ]
  },
  {
   "cell_type": "markdown",
   "id": "865710d6-e95d-475f-89de-ff75d9640701",
   "metadata": {},
   "source": [
    "Here we use mid-infrared data from the WISE satellite (Chen et al. 2018). The main reason is that interstellar extinction is minimum in the near- and mid-infrared. Also, pulsation amplitudes are smaller, which minimizes uncertainties on the mean apparent magnitude when the lightcurve is poorly populated.\n",
    "\n",
    "\n",
    "\\begin{equation}\n",
    "W_{\\mathrm{W_{12}}} = W_2 - R_{\\mathrm{W_2, W_1}} * (W_1 - W_2).    \n",
    "\\end{equation}\n",
    "\n",
    "\\begin{equation}\n",
    "R_{\\mathrm{W_2, W_1}} = \\frac{A_\\mathrm{W_2}}{E(W_1-W_2)},\n",
    "\\end{equation}\n",
    "with R$_{\\mathrm{W_2, W_1}}$ = 2.0"
   ]
  },
  {
   "cell_type": "markdown",
   "id": "b91a20dc-d9c2-43d5-a6f4-cf10a740af45",
   "metadata": {},
   "source": [
    "We use a Student's t-distribution for the likelihood of the model:\n",
    "- it is much less sensitive to outliers \n",
    "- it provides then a more robust estimates of the parameters.<br>\n",
    "\n",
    "(in presence of outliers, other approaches often shift the mean toward the outliers and increase the standard deviation, while the Student's t-distribution decreases the weight of the outliers)."
   ]
  },
  {
   "cell_type": "markdown",
   "id": "d091df35-5829-4bae-9d9b-136d5938245e",
   "metadata": {},
   "source": [
    "## Coefficients of the PW relations"
   ]
  },
  {
   "cell_type": "markdown",
   "id": "5c84e974-0021-4dcf-bf02-7e7f47af15ed",
   "metadata": {},
   "source": [
    "\n",
    "\n",
    "| Type    | n    | alpha          | beta           | sigma         |\n",
    "|---------|------|----------------|----------------|---------------|\n",
    "| DCEP_F  | 2326 | -2.436$\\pm$0.013 | -3.196$\\pm$0.019 | 0.149$\\pm$0.005 |\n",
    "| DCEP_1O | 1591 | -2.936$\\pm$0.015 | -3.342$\\pm$0.037 | 0.181$\\pm$0.008 |\n",
    "\n",
    "Period-Wesenheit relations in WISE bands for fundamental mode (DCEP\\_F) and first-overtone (DCEP\\_10) classical Cepheids located in the LMC.\n",
    "- n denotes the total number of stars used to compute the law.\n",
    "- The mean and standard deviations of posterior distributions of the model parameters are presented in the last three columns"
   ]
  },
  {
   "cell_type": "markdown",
   "id": "5f8981e7-90c2-40dd-9ab0-f44996806575",
   "metadata": {},
   "source": [
    "## Covariance matrix"
   ]
  },
  {
   "cell_type": "markdown",
   "id": "0e7a8aa9-81e9-4f2e-aa56-121f139ea971",
   "metadata": {},
   "source": [
    "\n",
    "\n",
    "| Type    |   n    | alpha          | beta           | sigma         |\n",
    "|---------|:------:|----------------|----------------|---------------|\n",
    "| DCEP_F  |  2326  | -2.436$\\pm$0.013 | -3.1966$\\pm$0.019 | 0.1496$\\pm$0.005 |\n",
    "| DCEP_1O |  1591  | -2.936$\\pm$0.015 | -3.3426$\\pm$0.037 | 0.1816$\\pm$0.008 |\n",
    "\n",
    "Period-Wesenheit relations in WISE bands for fundamental mode (DCEP\\_F) and first-overtone (DCEP\\_10) classical Cepheids located in the LMC.\n",
    "\n",
    "- n denotes the total number of stars used to compute the law.\n",
    "- The mean and standard deviations of posterior distributions of the model parameters are presented in the last three columns"
   ]
  },
  {
   "cell_type": "markdown",
   "id": "81616b75-fef9-4e3a-ad9f-111d8970484b",
   "metadata": {},
   "source": [
    "| parameter |       alpha     |       beta      |       sigma     |        nu       |\n",
    "|:---------:|:---------------:|:---------------:|:---------------:|:---------------:|\n",
    "|    alpha  |  3.24967949e-04 | -4.38328130e-04 |  1.46899174e-03 | -6.11806477e-05 |\n",
    "|     beta  | -4.38328130e-04 |  6.77959533e-04 | -2.16090433e-03 |  2.92371896e-05 |\n",
    "|    sigma  |  1.46899174e-03 | -2.16090433e-03 |  1.52551182e+00 |  1.10784521e-03 |\n",
    "|       nu  | -6.11806477e-05 |  2.92371896e-05 |  1.10784521e-03 |  2.26928615e-03 |\n",
    "|           |                 |                 |                 |                 |\n",
    "|    alpha  |  3.08465117e-04 | -6.95175096e-04 | -2.30024957e-04 | -1.07183562e-04 |\n",
    "|     beta  | -6.95175096e-04 |  2.01753200e-03 |  2.93887199e-03 |  1.97729713e-04 |\n",
    "|    sigma  | -2.30024957e-04 |  2.93887199e-03 |  1.38204481e+00 |  2.73979159e-03 |\n",
    "|       nu  | -1.07183562e-04 |  1.97729713e-04 |  2.73979159e-03 |  2.53117985e-03 |\n",
    "\n",
    "  Covariance matrix for the Bayesian robust regression of the\n",
    "  period-Wesenheit relations.\n",
    "  \n",
    "  - alpha and beta are the zero-point and the slope of the relations, sigma their standard deviation and nu their normality parameter.\n",
    "  - The upper panel is for fundamental mode classical Cepheids and the lower panel for first-overtone classical Cepheids."
   ]
  },
  {
   "cell_type": "markdown",
   "id": "6015e75d-a797-4e99-b8e8-98ea8e0bef30",
   "metadata": {},
   "source": [
    "[Link to the original paper](https://ui.adsabs.harvard.edu/abs/2022A%26A...668A..40L/abstract)"
   ]
  }
 ],
 "metadata": {
  "kernelspec": {
   "display_name": "Python 3 (ipykernel)",
   "language": "python",
   "name": "python3"
  },
  "language_info": {
   "codemirror_mode": {
    "name": "ipython",
    "version": 3
   },
   "file_extension": ".py",
   "mimetype": "text/x-python",
   "name": "python",
   "nbconvert_exporter": "python",
   "pygments_lexer": "ipython3",
   "version": "3.9.13"
  }
 },
 "nbformat": 4,
 "nbformat_minor": 5
}
