{
 "cells": [
  {
   "cell_type": "markdown",
   "id": "306696d1-cab3-4644-9ba2-167f5571dd55",
   "metadata": {},
   "source": [
    "# Identifying the Milky Way spiral arms using clustering algorithms"
   ]
  },
  {
   "cell_type": "markdown",
   "id": "9d253201-d363-4813-93ca-80afda64e91d",
   "metadata": {},
   "source": [
    "## Context"
   ]
  },
  {
   "cell_type": "markdown",
   "id": "afd8c673-72cb-40e8-b8d4-f434c52ca28a",
   "metadata": {},
   "source": [
    "Mapping the spiral structure of the Milky Way is difficult:\n",
    "- the Sun is located in the Galactic plane \n",
    "- the light emitted by stars is absorbed by interstellar material, in particular dust. \n",
    "  that are quasi immune to dust extinction, have been used with great success. "
   ]
  },
  {
   "cell_type": "markdown",
   "id": "8de8a508-eaaa-4a3c-bdcf-5a9c747f1464",
   "metadata": {},
   "source": [
    "For these reasons, molecular masers associated with young massive stars in high-mass star-forming regions are among the most reliable tracers:\n",
    "- they are extremely young --> they are still at their birthplace\n",
    "- their distances (measured via the parallax method through radio-interferometry) are very accurate\n",
    "- the observations in the radio wavelength domain are unaffected by dust extinction, \n",
    "However, only a couple hundred of such sources are known so far. \n",
    "\n",
    "Based on those, Reid et al. (2019) found that the Milky Way spiral structure consists of four arms, plus the Local arm, which they consider to be an isolated segment. However, alternative models exist, for instance, a two-(major)-arm model by Drimmel (2000)."
   ]
  },
  {
   "cell_type": "markdown",
   "id": "01491f2e-585c-449c-b611-0c716c1ed54a",
   "metadata": {},
   "source": [
    "Here, we want to determine the location of the spiral arms using Cepheids: \n",
    "- they are bright --> they can be observed at very large distances\n",
    "- their distances are very accurate\n",
    "- Using near- or mid-infrared photometry, their distances are minimally affected by interstellar extinction.\n",
    "\n",
    "The distances to individual Cepheids have been determined thanks to period-wesenheit relations, a specific type of period-luminosity relations (see the corresponding notebook) and the (negligible) effect of the Galactic warp on distances has been taken into account (see the corresponding notebook)."
   ]
  },
  {
   "cell_type": "markdown",
   "id": "6760f076-f976-4bcf-aff2-f2757cd5675a",
   "metadata": {},
   "source": [
    "The age of a Cepheid is inversely correlated with its period via period-age relations (e.g., Efremov 1978, Bono et al. 2005), but the accuracy of the age is at least 100%.\n",
    "HOWEVER their ranking by age is very reliable (the period, which can be measured with great accuracy, is the driving parameter of period-age relations.\n",
    "Although younger than 300 Myr (many stars are several Gyr old, some even older than 10 Gyr), Cepheids potentially had time to move away from their birthplace. In what follows we limited our sample of Cepheids using various age limits"
   ]
  },
  {
   "cell_type": "markdown",
   "id": "0f7500d4-12a5-4a75-8f1a-fa174597881a",
   "metadata": {},
   "source": [
    "Over-plotting the spiral arms from Masers (Reid et al. 2019) on top of the entire sample of Cepheids (no age restriction)\n",
    "--> the Cepheids’ overdensities match the spiral arms well. "
   ]
  },
  {
   "cell_type": "markdown",
   "id": "64a4b5f5-5d81-4ccb-ab93-03532da73b93",
   "metadata": {},
   "source": [
    "<p style=\"text-align:center;\"><img src=\"plots_spiral/Overplot_spiral_Reid19.jpg\" width=\"300\"></p>"
   ]
  },
  {
   "cell_type": "markdown",
   "id": "aac95658-00e8-4fa5-ae26-ca6b6d071dfc",
   "metadata": {},
   "source": [
    "Classical Cepheids (black dots) and spiral arms from Reid et al. 2019 (colored lines) in the Galactic plane. \n",
    "Concentric circles are shown every 4 kpc to guide the eye. \n",
    "The Galactic center (black filled circle) is at (0,0) and the Sun (yellow star) at (8.275,0)."
   ]
  },
  {
   "cell_type": "markdown",
   "id": "e35a6a09-877f-471c-b7fb-40e81cf12973",
   "metadata": {},
   "source": [
    "Inter-arm regions have lower densities of Cepheids, as can be seen in the radial distribution of Cepheids located in a Galactocentric angular sector around 160°"
   ]
  },
  {
   "cell_type": "markdown",
   "id": "a2037d7f-c2f9-4eae-9f4f-9ba8a016d210",
   "metadata": {},
   "source": [
    "<p style=\"text-align:center;\"><img src=\"plots_spiral/Cepheid_density_vs_Reid19.jpg\" width=\"300\"></p>"
   ]
  },
  {
   "cell_type": "markdown",
   "id": "61c10a7a-1bbe-4ca3-a451-ecb16a7464b3",
   "metadata": {},
   "source": [
    "Kernel density estimation (with a kernel bandwidth of 0.1) of the radial distribution of Cepheids located in a Galactocentric angular sector around 160°. The spiral arms from Reid et al. (2019) in this sector are shown as vertcal dashed lines.\n",
    "(The angular sector around 160° intercepts the spiral arms in a region where the completeness of the data is not hindered by the two shadow cones visible the previous figure which hamper the detection of Cepheids beyond nearby regions with strong extinction."
   ]
  },
  {
   "cell_type": "markdown",
   "id": "0d4f3a3b-9f2d-4980-b045-4686981c6bd6",
   "metadata": {},
   "source": [
    "## Clustering algorithm: t-SNE + HDBSCAN"
   ]
  },
  {
   "cell_type": "markdown",
   "id": "e9870cf9-ca27-4ab1-96fb-94ddca3fb73e",
   "metadata": {},
   "source": [
    "t-SNE: t-distributed Stochastic Neighbor Embedding (van der Maaten & Hinton 2008)\n",
    "\n",
    "- t-SNE often used to visualize high-dimensional data in a lower-dimensional space\n",
    "- Here we only used as input the coordinates (θ, ln r) of the Cepheids in our dataset (r: Galactocentric distance, $\\Theta$: Galactocentric azimuth)\n",
    "\n",
    "t-SNE uses a Student’s t-distribution to compute the similarity between two data points in the t-SNE output space, \n",
    "--> it performs very well in keeping similar input data points close together in the output space, even if they come from crowded regions. \n",
    "--> Downside: t-SNE performs poorly when data are sparse. \n",
    "\n",
    "t-SNE:\n",
    "- data standardized\n",
    "- t-SNE initialized using a principal component analysis (PCA) \n",
    "- and run for 6000 iterations in a 2D space. \n",
    "\n",
    "NB: For our dataset, the topology of the outcome in the t-SNE space is robust to the choice of the perplexity value (the effective number of neighbors considered by t-SNE for any given data point)\n",
    "NB: For our dataset, the topology of the outcome in the t-SNE space is robust to the choice of the early exaggeration value (set to 5), which ensures that tight clusters in the data will not overlap in the t-SNE space. "
   ]
  },
  {
   "cell_type": "markdown",
   "id": "1208dd57-0e44-4ce6-96ef-3f36241c5c0f",
   "metadata": {},
   "source": [
    "Individual groups are then identified using the clustering algorithm HDBSCAN, a clustering algorithm using unsupervised learning to identify clusters in a distribution of data points (Campello et al. 2015; McInnes et al. 2017). \n",
    "\n",
    "HDBSCAN:\n",
    "- minimum of 5 groups (well below the number of clusters actually found)\n",
    "- minimum of 20 members per group (to avoid spurious detections of tiny groups)\n",
    "- assumption: Euclidean distances between individual points in the t-SNE space."
   ]
  },
  {
   "cell_type": "markdown",
   "id": "eaf2d244-1bb9-497a-b633-1cc8fb43e6dd",
   "metadata": {},
   "source": [
    "Top-left panel: distribution of Cepheids (here, age max = 150 Myr) in the t-SNE space. The color-coding indicates groups identified by HDBSCAN.\n",
    "\n",
    "Bottom panel: Cepheids in the (θ, ln r) space with the same color-coding. The groups identified by t-SNE+HDBSCAN form narrow, linear sequences in this plane, as is expected under the common assumption that spiral arms follow a logarithmic spiral.\n",
    "\n",
    "Top-right panel: Spatial distribution of the identified groups in the Milky Way plane --> each group forms indeed a section of a given spiral arm. "
   ]
  },
  {
   "cell_type": "markdown",
   "id": "4b70df43-3225-4838-b9fe-de6f94d30640",
   "metadata": {},
   "source": [
    "<p style=\"text-align:center;\"><img src=\"plots_spiral/single_age_150.jpg\" width=\"600\"></p>"
   ]
  },
  {
   "cell_type": "markdown",
   "id": "1ec5b9d3-7f14-48bd-9d88-99b6262d7291",
   "metadata": {},
   "source": [
    "NB: large groups (1, 3) gathering distant Cepheids reflect the fact that t-SNE does not perform well with sparse data (the search of pulsating variable stars is still largely incomplete and their classification uncertain at large distances in the disk) and do not trace reliable spatial structures.\n",
    "NB: Similarly, a few isolated Cepheids in the outer disk are attributed to likely unreliable groups, for instance, to groups 2 or 15."
   ]
  },
  {
   "cell_type": "markdown",
   "id": "36b431c7-3ebf-4638-8045-346a2f68697d",
   "metadata": {},
   "source": [
    "NB: 150 Myr = arbitrary age limit, it is a compromise to identify a good number of spiral features without taking into account older stars that may have drifted away from their birth place (see the extensive discussion in the paper)."
   ]
  },
  {
   "cell_type": "markdown",
   "id": "7ac8e1a4-5640-4d0e-87f6-309bc52fa2ca",
   "metadata": {},
   "source": [
    "Properties of a given individual segment/group:\n",
    "\n",
    "- fit a linear relation in the (θ, ln r) space: ln r = a $\\times$ θ + b through all group members \n",
    "- from the slope, derive the pitch angle. \n",
    "- reference angle = midpoint of the minimal and maximal Galactocentric azimuths covered by the group\n",
    "- radius corresponding to the reference angle = reference (logarithm of the) radius\n",
    "\n",
    "With these values, we trace the spiral segments displayed below.\n",
    "Several segments located at a similar reference radius can be interpreted as different sections of the same spiral arm.\n",
    "\n",
    "NB: several large groups not resolved by the algorithm (see text above), they are ignored\n",
    "NB: several groups formed from a very small number of stars over large distances, they are probably spurious"
   ]
  },
  {
   "cell_type": "markdown",
   "id": "103f93e0-bfc3-490b-8fbe-6e6dbd0a9af6",
   "metadata": {},
   "source": [
    "<p style=\"text-align:center;\"><img src=\"plots_spiral/4plots_150.jpg\" width=\"600\"></p>"
   ]
  },
  {
   "cell_type": "markdown",
   "id": "e1d51698-750c-405b-9e01-b11f35d9d86c",
   "metadata": {},
   "source": [
    "## Comparison with previous studies"
   ]
  },
  {
   "cell_type": "markdown",
   "id": "25530835-297d-4e31-8afd-ce18d91e193d",
   "metadata": {},
   "source": [
    "Comparison with previous models. \n",
    "Top left: spiral segments (olive) over-plotted on Cepheids identified as members of a group. \n",
    "Top right: spiral segments and the model of Reid et al. (2019).\n",
    "Bottom left: spiral segments and the model of Levine et al. (2006b).\n",
    "Bottom right: spiral segments and the model of Hou (2021).\n",
    "\n",
    "A detailed discussion about the comparison of individual segments/spiral arms can be found in the paper"
   ]
  },
  {
   "cell_type": "markdown",
   "id": "5dd6aecd-075e-49bd-97a8-6ec521d126b4",
   "metadata": {},
   "source": [
    "## Outcome of tests on mock data"
   ]
  },
  {
   "cell_type": "markdown",
   "id": "509216a1-0d81-43f4-b176-c00fbea926b5",
   "metadata": {},
   "source": [
    "We have run several tests on mock data to understand the behavious of the algorithm (see the dedicated notebook):\n",
    "\n",
    "The mock spiral structure is based on the Reid et al. (2019) model. \n",
    "Tests show that:\n",
    "- the algorithm recovers the mock spiral arms very well, even with large amounts of \"inter-arm\" Cepheids (\"noise\").\n",
    "- a fraction of these \"inter-arm\" Cepheids is included in the nearest arm, the impact on the recovered location is marginal.\n",
    "- the algorithm is sensitive to small gaps (regions without stars) in individual spiral arms --> a given spiral arm may then be split in several segments limited by those gaps. \n",
    "- this is more likely to occur when two spiral arms are very close to each other. In such a case, two segments from two different arms may be joined within the same group, leading to a spurious location of a spiral arm at a median distance between the two segments."
   ]
  },
  {
   "cell_type": "markdown",
   "id": "7371f938-6414-4928-a4f1-13e81af84314",
   "metadata": {
    "tags": []
   },
   "source": [
    "[Link to the original paper](https://ui.adsabs.harvard.edu/abs/2022A%26A...668A..40L/abstract)"
   ]
  }
 ],
 "metadata": {
  "kernelspec": {
   "display_name": "Python 3 (ipykernel)",
   "language": "python",
   "name": "python3"
  },
  "language_info": {
   "codemirror_mode": {
    "name": "ipython",
    "version": 3
   },
   "file_extension": ".py",
   "mimetype": "text/x-python",
   "name": "python",
   "nbconvert_exporter": "python",
   "pygments_lexer": "ipython3",
   "version": "3.9.13"
  }
 },
 "nbformat": 4,
 "nbformat_minor": 5
}
